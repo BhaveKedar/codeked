{
 "cells": [
  {
   "cell_type": "markdown",
   "id": "d71e6e0a-4ff8-40e7-b7cc-ebc2ecd20824",
   "metadata": {},
   "source": [
    "# Data Science Tools and Ecosystem"
   ]
  },
  {
   "cell_type": "markdown",
   "id": "29d567df-7717-46ae-b918-5e9ab8478d01",
   "metadata": {},
   "source": [
    "In this notebook, Data Science Tools and Ecosystem are summarized"
   ]
  },
  {
   "cell_type": "markdown",
   "id": "5a99351c-bf03-4ca0-9bc4-3325f3c10915",
   "metadata": {},
   "source": [
    "**Objectives:**\n",
    "- Add comments to code cell\n",
    "- Create markdown cells\n",
    "- Add ordered and unordered lists to markdown cells\n",
    "- Format content of markdown cells with heading styles"
   ]
  },
  {
   "cell_type": "markdown",
   "id": "ffc9f045-cd64-45e9-8c31-288d85714da6",
   "metadata": {},
   "source": [
    "Some of the popular languages that Data Scientists use are:\n",
    "1. Python\n",
    "2. R \n",
    "3. SQL\n",
    "4. Julia\n",
    "5. Scala\n",
    "6. Java\n",
    "7. C++"
   ]
  },
  {
   "cell_type": "markdown",
   "id": "2635fceb-8d90-4883-9dc0-5ff888eb45c7",
   "metadata": {},
   "source": [
    "Some of the commonly used libraries used by Data Scientists include:\n",
    "1. Numpy\n",
    "2. Pandas\n",
    "3. Matplotlib\n",
    "4. Seaborn\n",
    "5. Scipy\n",
    "6. Tensorflow"
   ]
  },
  {
   "cell_type": "markdown",
   "id": "b2175c27-a22b-444b-9ba7-e182ef97c376",
   "metadata": {},
   "source": [
    "| Data Science Tools|\n",
    "|-------------------|\n",
    "| Anaconda |\n",
    "| Jupyter Notebook |\n",
    "| R Studio |\n",
    "| Spyder |\n",
    "| Zeppelin |"
   ]
  },
  {
   "cell_type": "markdown",
   "id": "3cc345bb-58a0-4e39-9c6c-82ac3ea83270",
   "metadata": {},
   "source": [
    "### Below are a few examples of evaluating arithmetic expressions in Python"
   ]
  },
  {
   "cell_type": "code",
   "execution_count": 1,
   "id": "b74a92e4-87b8-4347-8c38-70550835eb8c",
   "metadata": {},
   "outputs": [
    {
     "data": {
      "text/plain": [
       "17"
      ]
     },
     "execution_count": 1,
     "metadata": {},
     "output_type": "execute_result"
    }
   ],
   "source": [
    "## This a simple arithmetic expression to mutiply then add integers\n",
    "(3*4)+5"
   ]
  },
  {
   "cell_type": "code",
   "execution_count": 1,
   "id": "8cd5f736-35b1-414b-b662-f508848e545c",
   "metadata": {},
   "outputs": [
    {
     "data": {
      "text/plain": [
       "3"
      ]
     },
     "execution_count": 1,
     "metadata": {},
     "output_type": "execute_result"
    }
   ],
   "source": [
    "## This will convert 200 minutes to hours by diving by 60\n",
    "200//60"
   ]
  },
  {
   "cell_type": "markdown",
   "id": "ba9e67cc-c032-45e5-9a14-a32ae3fb0249",
   "metadata": {},
   "source": [
    "## Author(s)\n",
    "Kedar Bhave"
   ]
  },
  {
   "cell_type": "code",
   "execution_count": null,
   "id": "fefc4221-a6f6-4667-9da4-e128e809bba2",
   "metadata": {},
   "outputs": [],
   "source": []
  }
 ],
 "metadata": {
  "kernelspec": {
   "display_name": "Python 3 (ipykernel)",
   "language": "python",
   "name": "python3"
  },
  "language_info": {
   "codemirror_mode": {
    "name": "ipython",
    "version": 3
   },
   "file_extension": ".py",
   "mimetype": "text/x-python",
   "name": "python",
   "nbconvert_exporter": "python",
   "pygments_lexer": "ipython3",
   "version": "3.11.3"
  }
 },
 "nbformat": 4,
 "nbformat_minor": 5
}
